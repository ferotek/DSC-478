{
 "cells": [
  {
   "cell_type": "markdown",
   "metadata": {},
   "source": [
    "Joke Recommender System, continuation of assignment #4 of DSC 478"
   ]
  },
  {
   "cell_type": "code",
   "execution_count": 70,
   "metadata": {},
   "outputs": [],
   "source": [
    "import pandas as pd\n",
    "import numpy as np\n",
    "import matplotlib.pyplot as plt\n",
    "from numpy import linalg as la\n",
    "from numpy.random import randint\n",
    "from sklearn.metrics.pairwise import cosine_similarity\n",
    "%matplotlib inline\n",
    "\n"
   ]
  },
  {
   "cell_type": "markdown",
   "metadata": {},
   "source": [
    "#3. For this problem you will use a modified version of the item-based recommender algorithm from Ch. 14 of Machine Learning in Action and use it on joke ratings data based on Jester Online Joke Recommender System. \n",
    "\n",
    "The data set contains two files. The file \"modified_jester_data.csv\" contains the ratings on 100 jokes by 1000 users (each row is a user profile). The ratings have been normalized to be between 1 and 21 (a 20-point scale), with 1 being the lowest rating. A zero indicated a missing rating. The file \"jokes.csv\" contains the joke ids mapped to the actual text of the jokes.\n",
    "\n",
    "Your tasks in this problem are the following (please also see comments for the function stubs in the provided module):\n",
    "\n"
   ]
  },
  {
   "cell_type": "markdown",
   "metadata": {},
   "source": [
    "a. Load in the joke ratings data and the joke text data into appropriate data structures.\n"
   ]
  },
  {
   "cell_type": "code",
   "execution_count": 7,
   "metadata": {},
   "outputs": [],
   "source": [
    "def load_jokes(file):\n",
    "    jokes = np.genfromtxt(file, delimiter=',', dtype=str)\n",
    "    jokes = np.array(jokes[:,1])\n",
    "    return jokes\n",
    "\n",
    "jes_df = np.genfromtxt(\"modified_jester_data.csv\", delimiter=',')\n",
    "jokes_df = load_jokes(\"jokes.csv\")"
   ]
  },
  {
   "cell_type": "code",
   "execution_count": 40,
   "metadata": {},
   "outputs": [
    {
     "data": {
      "text/plain": [
       "(1000, 100)"
      ]
     },
     "execution_count": 40,
     "metadata": {},
     "output_type": "execute_result"
    }
   ],
   "source": [
    "jes_df.shape"
   ]
  },
  {
   "cell_type": "markdown",
   "metadata": {},
   "source": [
    "b. Complete the definition for the function \"test\". This function iterates over all users and for each performs evaluation (by calling the provided \"cross_validate_user\" function), and returns the error information necessary to compute Mean Absolute Error (MAE). Use this function to perform evaluation (wiht 20% test-ratio for each user) comparing MAE results using standard item-based collaborative filtering (based on the rating prediction function \"standEst\") with results using the SVD-based version of the rating item-based CF (using \"svdEst\" as the prediction engine).\n"
   ]
  },
  {
   "cell_type": "code",
   "execution_count": 130,
   "metadata": {},
   "outputs": [],
   "source": [
    "def ecludSim(inA,inB):\n",
    "    return 1.0 / (1.0 + la.norm(inA - inB))\n",
    "\n",
    "def pearsSim(inA,inB):\n",
    "    if len(inA) < 3 : return 1.0\n",
    "    return 0.5 + 0.5 * np.corrcoef(inA, inB, rowvar = 0)[0][1]\n",
    "\n",
    "def cosSim(inA,inB):\n",
    "    num = float(inA.T * inB)\n",
    "    denom = la.norm(inA)*la.norm(inB)\n",
    "    return 0.5 + 0.5 * (num / denom)\n",
    "\n",
    "def standEst(dataMat, user, simMeas, item):\n",
    "    n = np.shape(dataMat)[1]\n",
    "    simTotal = 0.0; ratSimTotal = 0.0\n",
    "    for j in range(n):\n",
    "        userRating = dataMat[user,j]\n",
    "        if userRating == 0: continue\n",
    "        overLap = np.nonzero(np.logical_and(dataMat[:,item]>0, \\\n",
    "                                      dataMat[:,j]>0))[0]\n",
    "        if len(overLap) == 0: similarity = 0\n",
    "        else: similarity = simMeas(dataMat[overLap,item], \\\n",
    "                                   dataMat[overLap,j])\n",
    "        #print 'the %d and %d similarity is: %f' % (item, j, similarity)\n",
    "        simTotal += similarity\n",
    "        ratSimTotal += similarity * userRating\n",
    "    if simTotal == 0: return 0\n",
    "    else: return ratSimTotal/simTotal\n",
    "    \n",
    "def svdEst(dataMat, user, simMeas, item):\n",
    "    n = np.shape(dataMat)[1]\n",
    "    simTotal = 0.0; ratSimTotal = 0.0\n",
    "    data=np.mat(dataMat)\n",
    "    U,Sigma,VT = la.svd(data)\n",
    "    Sig4 = np.mat(np.eye(4)*Sigma[:4]) #arrange Sig4 into a diagonal matrix\n",
    "    xformedItems = data.T * U[:,:4] * Sig4.I  #create transformed items\n",
    "    for j in range(n):\n",
    "        userRating = data[user,j]\n",
    "        if userRating == 0 or j==item: continue\n",
    "        similarity = simMeas(xformedItems[item,:].T,\\\n",
    "                             xformedItems[j,:].T)\n",
    "        #print 'the %d and %d similarity is: %f' % (item, j, similarity)\n",
    "        simTotal += similarity\n",
    "        ratSimTotal += similarity * userRating\n",
    "    if simTotal == 0: return 0\n",
    "    else: return ratSimTotal/simTotal\n",
    "\n",
    "\n",
    "\n",
    "\n",
    "# This function performs evaluation on a single user based on the test_ratio\n",
    "# For example, with test_ratio = 0.2, a randomly selected 20 percent of rated \n",
    "# items by the user are withheld and the rest are used to estimate the withheld ratings\n",
    "\n",
    "def cross_validate_user(dataMat, user, test_ratio, estMethod=standEst, simMeas=pearsSim):\n",
    "\tnumber_of_items = np.shape(dataMat)[1]\n",
    "\trated_items_by_user = np.array([i for i in range(number_of_items) if dataMat[user,i]>0])\n",
    "\ttest_size = int(test_ratio * len(rated_items_by_user))\n",
    "\ttest_indices = np.random.randint(0, len(rated_items_by_user), test_size)\n",
    "\twithheld_items = rated_items_by_user[test_indices]\n",
    "\toriginal_user_profile = np.copy(dataMat[user])\n",
    "\tdataMat[user, withheld_items] = 0 # So that the withheld test items is not used in the rating estimation below\n",
    "\terror_u = 0.0\n",
    "\tcount_u = len(withheld_items)\n",
    "\n",
    "\t# Compute absolute error for user u over all test items\n",
    "\tfor item in withheld_items:\n",
    "\t\t# Estimate rating on the withheld item\n",
    "\t\testimatedScore = estMethod(dataMat, user, simMeas, item)\n",
    "\t\terror_u = error_u + abs(estimatedScore - original_user_profile[item])\t\n",
    "\t\n",
    "\t# Now restore ratings of the withheld items to the user profile\n",
    "\tfor item in withheld_items:\n",
    "\t\tdataMat[user, item] = original_user_profile[item]\n",
    "\t\t\n",
    "\t# Return sum of absolute errors and the count of test cases for this user\n",
    "\t# Note that these will have to be accumulated for each user to compute MAE\n",
    "\treturn error_u, count_u\n",
    "\t\n",
    "def test(dataMat, test_ratio, estMethod):\n",
    "    \n",
    "    total_error = 0\n",
    "    total_count = 0\n",
    "    \n",
    "    for i in range(len(dataMat)):\n",
    "        \n",
    "        error = 0\n",
    "        count = 0\n",
    "        error, count = cross_validate_user(dataMat, i, test_ratio, estMethod, simMeas=pearsSim) \n",
    "        total_error += error\n",
    "        total_count += count\n",
    "            \n",
    "\n",
    "    \n",
    "        \n",
    "    MAE =  total_error/total_count\n",
    "    print('Mean Absoloute Error for ',estMethod,' : ', MAE)\n",
    "    \n",
    "\n",
    "    \n",
    "    # Iterates over all users and for each perform evaluation by calling\n",
    "\t# the above cross_validate_user function on each user. MAE will be the ratio of total error \n",
    "\t# across all test cases to the total number of test cases, for all users\n",
    "    \n",
    "    \n",
    "def get_joke_text(jokes, id):\n",
    "    return jokes[id]\n",
    "\n"
   ]
  },
  {
   "cell_type": "code",
   "execution_count": 24,
   "metadata": {},
   "outputs": [
    {
     "name": "stdout",
     "output_type": "stream",
     "text": [
      "Mean Absoloute Error for  <function standEst at 0x7fdf1318bdc0>  :  3.7449070304648373\n",
      "Mean Absoloute Error for  <function svdEst at 0x7fdf1318bd30>  :  3.678037401774303\n"
     ]
    }
   ],
   "source": [
    "test(jes_df, 0.2, standEst)\n",
    "test(jes_df, 0.2, svdEst)"
   ]
  },
  {
   "cell_type": "markdown",
   "metadata": {},
   "source": [
    "The MAE from using standEst method is slightly higher than the MAE from using the svdEst method."
   ]
  },
  {
   "cell_type": "markdown",
   "metadata": {},
   "source": [
    "c. Write a new function \"print_most_similar_jokes\" which takes the joke ratings data, a query joke id, a parameter k for the number of nearest neighbors, and a similarity metric function, and prints the text of the query joke as well as the texts of the top k most similar jokes based on user ratings.\n"
   ]
  },
  {
   "cell_type": "code",
   "execution_count": 26,
   "metadata": {},
   "outputs": [],
   "source": [
    "def print_most_similar_jokes(dataMat, jokes, queryJoke, k, metric=pearsSim):\n",
    "    \n",
    "\t# Finds the k most similar jokes (based on user ratings) to a queryJoke\n",
    "\t# The queryJoke is a joke id as given in the 'jokes.csv' file (an corresponding to the a column in dataMat)\n",
    "\t# You must compare ratings for the queryJoke (the column in dataMat corresponding to the joke), to all\n",
    "\t# other joke rating vectors and return the top k. Note that this is the same as performing KNN on the \n",
    "    # columns of dataMat. The function must retrieve the text of the joke from 'jokes.csv' file and print both\n",
    "\t# the queryJoke text as well as the text of the returned jokes.\n",
    "    \n",
    "    rec_joke_loc=[]\n",
    "    joke_recs=[]\n",
    "    \n",
    "    datamatT = dataMat.T   \n",
    "    shape = dataMat.T.shape[0]   \n",
    "    joke = datamatT[queryJoke]\n",
    "\n",
    "    for i in range(shape):\n",
    "        \n",
    "        if i == queryJoke:\n",
    "            continue\n",
    "        else:\n",
    "            sim = metric(datamatT[i],joke)\n",
    "            joke_recs.append([sim,i])\n",
    "        \n",
    "  \n",
    "    joke_recs.sort(reverse = True)   \n",
    "\n",
    "    for i in range(k):\n",
    "        \n",
    "        top_joke = joke_recs[i]\n",
    "        rec_joke_loc.append(top_joke[1])\n",
    "      \n",
    "    print(\"Queried Joke: \",jokes[queryJoke])\n",
    "    print(\"\\n\")\n",
    "    \n",
    "    for joke in rec_joke_loc:\n",
    "        print(\"Recommended Joke: \",jokes[joke])\n",
    "        print(\"\\n\")"
   ]
  },
  {
   "cell_type": "code",
   "execution_count": 27,
   "metadata": {},
   "outputs": [
    {
     "name": "stdout",
     "output_type": "stream",
     "text": [
      "Queried Joke:  Q. What's the difference between a man and a toilet? A. A toilet doesn't follow you around after you use it.\n",
      "\n",
      "\n",
      "Recommended Joke:  What do you get when you run over a parakeet with a lawnmower? Shredded tweet.\n",
      "\n",
      "\n",
      "Recommended Joke:  A country guy goes into a city bar that has a dress code and the maitred' demands he wear a tie. Discouraged the guy goes to his car to sulk when inspiration strikes: He's got jumper cables in the trunk! So he wraps them around his neck sort of like a string tie (a bulky string tie to be sure) and returns to the bar. The maitre d' is reluctant but says to the guy \"Okay you're a pretty resourceful fellow you can come in... but just don't start anything\"!\n",
      "\n",
      "\n",
      "Recommended Joke:  Q. What's 200 feet long and has 4 teeth? A. The front row at a Willie Nelson Concert.\n",
      "\n",
      "\n",
      "Recommended Joke:  What do you call an American in the finals of the world cup?\"Hey Beer Man!\"\n",
      "\n",
      "\n",
      "Recommended Joke:  Q: What's the difference between a Lawyer and a Plumber? A: A Plumber works to unclog the system.\n",
      "\n",
      "\n"
     ]
    }
   ],
   "source": [
    "print_most_similar_jokes(jes_df, jokes_df, 3, 5, pearsSim)\n"
   ]
  },
  {
   "cell_type": "markdown",
   "metadata": {},
   "source": [
    "d. [Extra Credit]: Develop your own item-based collaborative filtering recommender that uses a model-based approach (separating the training and the prediction tasks). In the training component, item-item similarities for all pairs of items are computed and stored in an appropriate data structure. Your training function should be able to use different similarity functions (passed as a parameter) including Cosine Similarity or Pearson Correlation. The prediction (or estimation) function should take as parameters a target user, an item, a value of k, and the similarities data structure and return the predicted rating on the target item for the target user. The predicted rating should be based on the weighted average of the target user's ratings on k most similar items to the target item. You should test the prediction accuracy of your estimation function (using a cross-validation similar to part b, above) and provide a plot of cross-validation accuracies across a range of values of k. Using the best value of k, demonstrate the functionality of your recommender by generating recommendations for several anecdotal users (similar to part a, above).\n"
   ]
  },
  {
   "cell_type": "code",
   "execution_count": 28,
   "metadata": {},
   "outputs": [],
   "source": [
    "def itemsim(metric, dataMat):\n",
    "    dataMatT = dataMat.T\n",
    "    dic = {}\n",
    "    for i in range(len(dataMatT)):\n",
    "        for j in range(len(dataMatT)):\n",
    "            if i == j:\n",
    "                dic[i,j] = 0\n",
    "            else:\n",
    "                dic[i,j] = metric(dataMatT[i],dataMatT[j])\n",
    "    return dic"
   ]
  },
  {
   "cell_type": "code",
   "execution_count": 29,
   "metadata": {},
   "outputs": [],
   "source": [
    "def predictRating(user, joke, k, sims):\n",
    "    \n",
    "    #gets the similarities to the selected joke\n",
    "    \n",
    "    jokesnum = []\n",
    "    for i in range(100):\n",
    "        jokesnum.append((sims[joke,i],i))\n",
    "    jokesnum.sort(reverse=True)\n",
    "    \n",
    "    i = 0\n",
    "    j = 0\n",
    "    \n",
    "    top_ratings = []\n",
    "    \n",
    "    #finds k most similar jokes that the user rated to the selected joke \n",
    "    \n",
    "    while i < k:\n",
    "        if jes_df[user][jokesnum[j][1]] != 0:\n",
    "            top_ratings.append(jes_df[user][jokesnum[j][1]])\n",
    "        i +=1   \n",
    "        j +=1\n",
    "    return np.mean(top_ratings)\n",
    "            \n",
    "        \n",
    "        \n",
    "    "
   ]
  },
  {
   "cell_type": "code",
   "execution_count": 30,
   "metadata": {},
   "outputs": [
    {
     "data": {
      "image/png": "[encoded data removed]",
      "text/plain": [
       "<Figure size 432x288 with 1 Axes>"
      ]
     },
     "metadata": {
      "needs_background": "light"
     },
     "output_type": "display_data"
    },
    {
     "name": "stdout",
     "output_type": "stream",
     "text": [
      "Best Value of K: 29\n"
     ]
    }
   ],
   "source": [
    "sims = itemsim(pearsSim, jes_df)\n",
    "\n",
    "predictions = [predictRating(4, 5, i, sims) for i in range(1,50) ]\n",
    "dists = [abs(predictions[i] - jes_df[4][5]) for i in range(len(predictions))]\n",
    "\n",
    "plt.plot(dists)\n",
    "plt.ylabel('Distance between predicted and actual')\n",
    "plt.xlabel('K')\n",
    "plt.show()\n",
    "\n",
    "K = dists.index(min(dists)) + 1\n",
    "print(\"Best Value of K:\", K)"
   ]
  },
  {
   "cell_type": "code",
   "execution_count": 47,
   "metadata": {},
   "outputs": [
    {
     "name": "stdout",
     "output_type": "stream",
     "text": [
      "User 5 predicted 6.687586206896551 for joke 12.\n",
      "User 5 actual rating 6.0 for joke 12.\n",
      "\n",
      "\n",
      "User 3 predicted 14.441071428571432 for joke 4.\n",
      "User 3 actual rating 12.8 for joke 4.\n"
     ]
    }
   ],
   "source": [
    "usernum = 5\n",
    "jokenum = 12\n",
    "\n",
    "pred = predictRating(usernum, jokenum, K, sims)\n",
    "print(\"User {} predicted {} for joke {}.\".format(usernum, pred, jokenum))\n",
    "print(\"User {} actual rating {} for joke {}.\".format(usernum, jes_df[usernum][jokenum], jokenum))\n",
    "\n",
    "usernum = 3\n",
    "jokenum = 4\n",
    "\n",
    "print('\\n')\n",
    "\n",
    "pred = predictRating(usernum, jokenum, K, sims)\n",
    "print(\"User {} predicted {} for joke {}.\".format(usernum, pred, jokenum))\n",
    "print(\"User {} actual rating {} for joke {}.\".format(usernum, jes_df[usernum][jokenum], jokenum))\n"
   ]
  },
  {
   "cell_type": "markdown",
   "metadata": {},
   "source": [
    "Gets input from user ratings of certain jokes and recommends similar jokes based on user ratings"
   ]
  },
  {
   "cell_type": "code",
   "execution_count": 125,
   "metadata": {},
   "outputs": [
    {
     "name": "stdout",
     "output_type": "stream",
     "text": [
      "Please rate these jokes from 1 to 5:\n",
      "\n",
      "A bus station is where a bus stops.A train station is where a train stops.On my desk I have a work station...\n",
      "1\n",
      "\n",
      "The graduate with a Science degree asks \"Why does it work?\"The graduate with an Engineering degree asks \"How does it work?\"The graduate with an Accounting degree Asks \"How much will it cost?\" The graduate with a  Liberal Arts degree asks \"Do you want fries with  that?\"\n",
      "2\n",
      "\n",
      "A Jewish young man was seeing a psychiatrist for an eating and sleeping disorder. \"I am so obsessed with my mother... As soon as I go to sleep I start dreaming and everyone in my dream turns into my mother. I wake up in such a state all I can do is go downstairs and eat a piece of toast.\"The psychiatrist replies:\"What just one piece of toast for a big boy like you?\"\n",
      "3\n",
      "\n",
      "Q. What's the difference between a man and a toilet? A. A toilet doesn't follow you around after you use it.\n",
      "4\n",
      "\n",
      "Q: What is the difference between George  Washington Richard Nixon and Bill Clinton? A: Washington couldn't tell a lie Nixon couldn't   tell the truth andClinton doesn't know the difference.\n",
      "5\n",
      "\n"
     ]
    }
   ],
   "source": [
    "#gets ratings from users and puts them in a numpy array\n",
    "userratings = np.zeros(100)\n",
    "jokelist = []\n",
    "\n",
    "print(\"Please rate these jokes from 1 to 5:\\n\")\n",
    "for i in range(5):\n",
    "    arrjoke = randint(100)\n",
    "    while arrjoke in jokelist:\n",
    "        arrjoke = randint(100)\n",
    "    jokelist.append(arrjoke)\n",
    "    \n",
    "    print(jokes_df[arrjoke])\n",
    "    jokescore = input()*5\n",
    "    print()\n",
    "    userratings[arrjoke] = jokescore"
   ]
  },
  {
   "cell_type": "code",
   "execution_count": 126,
   "metadata": {},
   "outputs": [],
   "source": [
    "userdict = {}\n",
    "#gets the similarities of the ratings of jokes from the users inputs to other users\n",
    "for i in range(100):\n",
    "    userdict[i] = cosine_similarity([jes_df[i]], [userratings])[0][0]\n",
    "\n",
    "similarusers = sorted(userdict, key=userdict.get)\n",
    "\n",
    "topsimur = np.zeros((5, 100))\n",
    "#gets the top 5 user ratings from similar users\n",
    "for i in range(5):\n",
    "    topsimur[i] = jes_df[similarusers[i]]\n",
    "#gets the average scores of the jokes among the 5 users    \n",
    "avgscores = np.average(topsimur, axis = 0)\n",
    "\n",
    "\n",
    "avgdict = {}\n",
    "for i in range(100):\n",
    "    avgdict[i] = avgscores[i]\n",
    "\n",
    "#sorts the jokes to get the top 5 jokes    \n",
    "similarscores = sorted(userdict, key=userdict.get)"
   ]
  },
  {
   "cell_type": "code",
   "execution_count": 127,
   "metadata": {},
   "outputs": [
    {
     "name": "stdout",
     "output_type": "stream",
     "text": [
      "Your top 5 recommended jokes are: \n",
      "\n",
      "Q: What's the difference between greeting a Queen and greeting thePresident of the United  States?A: You only have to get on one knee to greet the queen. \n",
      " \n",
      "Q: How do you keep a computer programmer in the shower all day long?A: Give them a shampoo with a label that says\"rinse lather repeat\". \n",
      " \n",
      "How many Irishmen does it take to change a light bulb?Two one to hold the lightbulb and the other to drink until the room spins. \n",
      " \n",
      "What did the Buddhist say to the hot dog vendor?Make me one with everything. \n",
      " \n",
      "An Asian man goes into a New York CityBank to exchange 10000 yen forAmerican Currency.  The teller gives him $72.00.  The next month theAsian man goes into the same bank with 10000 yen and receives $62.00.He asks \"How come? Only $62.00?\" The teller says \"Fluctuations-Fluctuations!\"Whereupon the Asian man looks back at the teller and says \"Fluk youAmelicans too!\" \n",
      " \n"
     ]
    }
   ],
   "source": [
    "print(\"Your top 5 recommended jokes are: \\n\")\n",
    "for i in range(5):\n",
    "    print(jokes_df[similarscores[i]], \"\\n \")"
   ]
  }
 ],
 "metadata": {
  "kernelspec": {
   "display_name": "Python 3",
   "language": "python",
   "name": "python3"
  },
  "language_info": {
   "codemirror_mode": {
    "name": "ipython",
    "version": 3
   },
   "file_extension": ".py",
   "mimetype": "text/x-python",
   "name": "python",
   "nbconvert_exporter": "python",
   "pygments_lexer": "ipython3",
   "version": "3.8.5"
  }
 },
 "nbformat": 4,
 "nbformat_minor": 2
}
